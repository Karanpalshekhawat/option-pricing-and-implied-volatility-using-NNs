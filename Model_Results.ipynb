{
 "cells": [
  {
   "cell_type": "markdown",
   "id": "c9e9590e",
   "metadata": {},
   "source": [
    "## Exploring the difference between output of Neural network model and output of theoretical methods used for computing option price and it's implied volatility\n",
    "\n",
    "---\n"
   ]
  },
  {
   "cell_type": "code",
   "execution_count": 1,
   "id": "1cfbc90a",
   "metadata": {},
   "outputs": [],
   "source": [
    "import pandas as pd\n",
    "import numpy as np\n",
    "import matplotlib.pyplot as plt\n",
    "import tensorflow as tf\n",
    "import h5py\n",
    "import os\n",
    "import json\n",
    "\n",
    "import warnings\n",
    "warnings.filterwarnings(\"ignore\") # just to remove clutter in the notebook"
   ]
  },
  {
   "cell_type": "markdown",
   "id": "1054092c",
   "metadata": {},
   "source": [
    "### <font color='Blue'> 1. Black-Scholes Model</font>\n",
    "\n",
    "---"
   ]
  },
  {
   "cell_type": "code",
   "execution_count": 2,
   "id": "bfa3b4bf",
   "metadata": {},
   "outputs": [],
   "source": [
    "from model.pricing.utils.get_data import get_current_price, pre_processing\n",
    "from model.pricing.core.black_scholes import create_dataset\n",
    "from model.pricing.core.neural_network import run_nn_model"
   ]
  },
  {
   "cell_type": "code",
   "execution_count": 3,
   "id": "0d7d82dc",
   "metadata": {},
   "outputs": [],
   "source": [
    "model_save_path = os.getcwd() + \"/model/output/\" + \"BS_NN_model.h5\"\n",
    "bs_nn_model = tf.keras.models.load_model(model_save_path, compile=False)"
   ]
  },
  {
   "cell_type": "markdown",
   "id": "e86ef7fb",
   "metadata": {},
   "source": [
    "#### <font color='Blue'>  1.1 Create datset using the below range of input parameters using Latin Hypercube sampling. </font>\n",
    "\n",
    "|  |  |  |\n",
    "|:---|:---|:---|\n",
    "|      | Parameters |  Range|\n",
    "|Input |Moneyness ($S_{o}$ / K) |  [0.4,1.6] |\n",
    "|      |Time to Maturity | [0.2,1.1]   |\n",
    "|      |Risk Free rate | [0.02,0.1] | \n",
    "|      |Volatility | [0.01,1] |\n",
    "|Output|Call Price (V / K) |  [0.0,0.9]    |\n",
    "\n",
    "---"
   ]
  },
  {
   "cell_type": "markdown",
   "id": "b0e40f5e",
   "metadata": {},
   "source": [
    "#### <font color='Blue'> 1.2 Computes black scholes price for a test data set and then compute option price by strike. </font> \n",
    "\n",
    "---"
   ]
  },
  {
   "cell_type": "code",
   "execution_count": 4,
   "id": "917750f7",
   "metadata": {},
   "outputs": [],
   "source": [
    "test_data_set_size = 100000\n",
    "df, st_current_price, range_of_inputs = pre_processing(test_data_set_size, \"BS\")\n",
    "dt_test = create_dataset(df, st_current_price, range_of_inputs)\n",
    "otpt_using_BS = np.array(dt_test['opt_price_by_strike'])"
   ]
  },
  {
   "cell_type": "markdown",
   "id": "a9c5fd34",
   "metadata": {},
   "source": [
    "#### <font color='Blue'>  1.3 Using the trained BS NN model and input parameters, we computed option price ( V / K) and compared it with option price by strike ratio obtained in above step </font>"
   ]
  },
  {
   "cell_type": "code",
   "execution_count": 5,
   "id": "f56bf727",
   "metadata": {},
   "outputs": [
    {
     "name": "stdout",
     "output_type": "stream",
     "text": [
      " 209/2958 [=>............................] - ETA: 1s"
     ]
    },
    {
     "name": "stderr",
     "output_type": "stream",
     "text": [
      "2023-02-02 13:25:11.312688: W tensorflow/tsl/platform/profile_utils/cpu_utils.cc:128] Failed to get CPU frequency: 0 Hz\n"
     ]
    },
    {
     "name": "stdout",
     "output_type": "stream",
     "text": [
      "2958/2958 [==============================] - 2s 483us/step\n"
     ]
    }
   ],
   "source": [
    "feature_columns = ['moneyness', 'time_to_maturity', 'risk_free_rate', 'volatility']\n",
    "x_test = dt_test[feature_columns]\n",
    "y_predict = bs_nn_model.predict(x_test)"
   ]
  },
  {
   "cell_type": "code",
   "execution_count": 6,
   "id": "551116d4",
   "metadata": {},
   "outputs": [
    {
     "data": {
      "image/png": "[encoded data removed]",
      "text/plain": [
       "<Figure size 640x480 with 1 Axes>"
      ]
     },
     "metadata": {},
     "output_type": "display_data"
    }
   ],
   "source": [
    "otpt_using_nn_model = [y[0] for y in y_predict]\n",
    "diff = np.subtract(otpt_using_BS, otpt_using_nn_model)\n",
    "plt.hist(diff, 100, density=1, alpha=0.9)\n",
    "plt.xlabel('Error')\n",
    "plt.ylabel('Frequency')\n",
    "  \n",
    "plt.title('Error Distribution', fontweight =\"bold\")\n",
    "plt.show()"
   ]
  },
  {
   "cell_type": "markdown",
   "id": "08cd2b20",
   "metadata": {},
   "source": [
    "### <font color='Blue'>  2. Combining Heston Pricing NN model and Implied Volatility NN model </font>\n",
    "\n",
    "---"
   ]
  },
  {
   "cell_type": "code",
   "execution_count": 7,
   "id": "a8bdf95d",
   "metadata": {},
   "outputs": [],
   "source": [
    "from model.implied_volatility.core.heston_model_pricing import create_heston_dataset"
   ]
  },
  {
   "cell_type": "code",
   "execution_count": 8,
   "id": "66d3ce6c",
   "metadata": {},
   "outputs": [],
   "source": [
    "heston_model_save_path = os.getcwd() + \"/model/output/\" + \"Heston_NN_model.h5\"\n",
    "heston_nn_model = tf.keras.models.load_model(heston_model_save_path, compile=False)\n",
    "implied_volatility_model_save_path = os.getcwd() + \"/model/output/\" + \"Implied_volatility_NN_model.h5\"\n",
    "implied_volatility_nn_model = tf.keras.models.load_model(implied_volatility_model_save_path, compile=False)"
   ]
  },
  {
   "cell_type": "markdown",
   "id": "efaa8d78",
   "metadata": {},
   "source": [
    "#### <font color='Blue'>  1.1 Create datset using the below range of input parameters using Latin Hypercube sampling for heston pricing dataset. </font>\n",
    "\n",
    "|  |  |  |\n",
    "|:---|:---|:---|\n",
    "|      | Parameters |  Range|\n",
    "|Input |Moneyness ($S_{o}$ / K) |  [0.4,1.6] |\n",
    "|      |Time to Maturity | [0.1,1.4]   |\n",
    "|      |Risk Free rate | [0.01,0.1] | \n",
    "|      |Correlation of stochastic process of udnerlying price and volatility | [-0.95,0] |\n",
    "|      |Reversion speed of volatility stochastic mean reverting process |  [0.0,2.0]     |\n",
    "|      |Long average variance |  [0.0,0.5]     |\n",
    "|      |Volatility of variance |  [0.0,0.5]     |\n",
    "|      |Initial variance |  [0.05,0.5]     |\n",
    "|Output|Call Price (V / K) |  [0.0,0.7]   |\n",
    "\n",
    "---\n",
    "\n",
    "#### <font color='Blue'> 2.2 Computing implied volatiity for a simulated heston price using brent method. </font> \n",
    "\n",
    "---"
   ]
  },
  {
   "cell_type": "code",
   "execution_count": 9,
   "id": "1debe06a",
   "metadata": {},
   "outputs": [],
   "source": [
    "from model.implied_volatility.core.implied_vol import implied_volatility_call"
   ]
  },
  {
   "cell_type": "code",
   "execution_count": 10,
   "id": "687ea54e",
   "metadata": {},
   "outputs": [],
   "source": [
    "otpt_heston = os.getcwd() + \"/model/output/\" + \"Heston_model_dataset.csv\"\n",
    "dt_set = pd.read_csv(otpt_heston).iloc[:, 1:]\n",
    "dt_set['implied_vol'] = dt_set.apply(lambda x:implied_volatility_call(x), axis=1)"
   ]
  },
  {
   "cell_type": "code",
   "execution_count": 11,
   "id": "a52dd761",
   "metadata": {},
   "outputs": [],
   "source": [
    "tuned_hyper_parameter_file_name = os.getcwd() + \"/model/output/\" + \"best_hyper_parameter.json\"\n",
    "with open(tuned_hyper_parameter_file_name) as f:\n",
    "    df_hyper = json.load(f)"
   ]
  },
  {
   "cell_type": "code",
   "execution_count": 13,
   "id": "45bc4b04",
   "metadata": {},
   "outputs": [],
   "source": [
    "otpt_using_heston = np.array(dt_set['implied_vol'])"
   ]
  },
  {
   "cell_type": "code",
   "execution_count": 14,
   "id": "7bfc4c54",
   "metadata": {},
   "outputs": [],
   "source": [
    "heston_model_save_path = os.getcwd() + \"/model/output/\" + \"Heston_NN_model.h5\"\n",
    "implied_vol_model_save_path = os.getcwd() + \"/model/output/\" + \"implied_volatility_NN_model.h5\"\n",
    "heston_nn_model = tf.keras.models.load_model(heston_model_save_path, compile=False)\n",
    "implied_vol_nn_model = tf.keras.models.load_model(implied_vol_model_save_path, compile=False)"
   ]
  },
  {
   "cell_type": "code",
   "execution_count": 16,
   "id": "23664b48",
   "metadata": {},
   "outputs": [
    {
     "name": "stdout",
     "output_type": "stream",
     "text": [
      "313/313 [==============================] - 0s 515us/step\n"
     ]
    }
   ],
   "source": [
    "feature_columns_heston_model = ['moneyness', 'time_to_maturity', 'risk_free_rate', 'correlation', 'reversion_speed',\n",
    "                       'Long_average_variance', 'vol_vol', 'initial_variance']\n",
    "heston_price_using_nn_model = heston_nn_model.predict(dt_set[feature_columns_heston_model])"
   ]
  },
  {
   "cell_type": "code",
   "execution_count": 32,
   "id": "a0c0c30e",
   "metadata": {},
   "outputs": [],
   "source": [
    "dt_set['heston_price_using_NN'] = [y[0] for y in heston_price_using_nn_model]"
   ]
  },
  {
   "cell_type": "code",
   "execution_count": 33,
   "id": "e32fd9d3",
   "metadata": {},
   "outputs": [
    {
     "data": {
      "text/html": [
       "<div>\n",
       "<style scoped>\n",
       "    .dataframe tbody tr th:only-of-type {\n",
       "        vertical-align: middle;\n",
       "    }\n",
       "\n",
       "    .dataframe tbody tr th {\n",
       "        vertical-align: top;\n",
       "    }\n",
       "\n",
       "    .dataframe thead th {\n",
       "        text-align: right;\n",
       "    }\n",
       "</style>\n",
       "<table border=\"1\" class=\"dataframe\">\n",
       "  <thead>\n",
       "    <tr style=\"text-align: right;\">\n",
       "      <th></th>\n",
       "      <th>moneyness</th>\n",
       "      <th>time_to_maturity</th>\n",
       "      <th>risk_free_rate</th>\n",
       "      <th>correlation</th>\n",
       "      <th>reversion_speed</th>\n",
       "      <th>Long_average_variance</th>\n",
       "      <th>vol_vol</th>\n",
       "      <th>initial_variance</th>\n",
       "      <th>s0</th>\n",
       "      <th>strike</th>\n",
       "      <th>...</th>\n",
       "      <th>calender_days</th>\n",
       "      <th>Heston_price</th>\n",
       "      <th>opt_price_by_strike</th>\n",
       "      <th>implied_vol</th>\n",
       "      <th>heston_price_using_NN</th>\n",
       "      <th>checking_heston_price</th>\n",
       "      <th>BS_price</th>\n",
       "      <th>time_value</th>\n",
       "      <th>scaled_time_value</th>\n",
       "      <th>implied_vol_using_NN</th>\n",
       "    </tr>\n",
       "  </thead>\n",
       "  <tbody>\n",
       "    <tr>\n",
       "      <th>0</th>\n",
       "      <td>0.704923</td>\n",
       "      <td>0.134975</td>\n",
       "      <td>0.089318</td>\n",
       "      <td>-0.861284</td>\n",
       "      <td>1.374675</td>\n",
       "      <td>0.477240</td>\n",
       "      <td>0.403896</td>\n",
       "      <td>0.289033</td>\n",
       "      <td>4070.560059</td>\n",
       "      <td>5774.472175</td>\n",
       "      <td>...</td>\n",
       "      <td>49</td>\n",
       "      <td>12.022537</td>\n",
       "      <td>0.002082</td>\n",
       "      <td>0.505831</td>\n",
       "      <td>-0.041600</td>\n",
       "      <td>0.002082</td>\n",
       "      <td>-240.219484</td>\n",
       "      <td>-240.219484</td>\n",
       "      <td>NaN</td>\n",
       "      <td>NaN</td>\n",
       "    </tr>\n",
       "    <tr>\n",
       "      <th>1</th>\n",
       "      <td>0.865403</td>\n",
       "      <td>0.427014</td>\n",
       "      <td>0.097762</td>\n",
       "      <td>-0.185793</td>\n",
       "      <td>0.729394</td>\n",
       "      <td>0.230467</td>\n",
       "      <td>0.041933</td>\n",
       "      <td>0.351214</td>\n",
       "      <td>4070.560059</td>\n",
       "      <td>4703.659001</td>\n",
       "      <td>...</td>\n",
       "      <td>156</td>\n",
       "      <td>447.653278</td>\n",
       "      <td>0.095171</td>\n",
       "      <td>0.579523</td>\n",
       "      <td>0.215044</td>\n",
       "      <td>0.095171</td>\n",
       "      <td>1011.491505</td>\n",
       "      <td>1011.491505</td>\n",
       "      <td>-1.536915</td>\n",
       "      <td>1.101817</td>\n",
       "    </tr>\n",
       "    <tr>\n",
       "      <th>2</th>\n",
       "      <td>0.959384</td>\n",
       "      <td>1.214109</td>\n",
       "      <td>0.033050</td>\n",
       "      <td>-0.739876</td>\n",
       "      <td>0.985806</td>\n",
       "      <td>0.425018</td>\n",
       "      <td>0.195878</td>\n",
       "      <td>0.071622</td>\n",
       "      <td>4070.560059</td>\n",
       "      <td>4242.887461</td>\n",
       "      <td>...</td>\n",
       "      <td>443</td>\n",
       "      <td>825.310628</td>\n",
       "      <td>0.194516</td>\n",
       "      <td>0.467660</td>\n",
       "      <td>0.228607</td>\n",
       "      <td>0.194516</td>\n",
       "      <td>969.951873</td>\n",
       "      <td>969.951873</td>\n",
       "      <td>-1.475753</td>\n",
       "      <td>0.567598</td>\n",
       "    </tr>\n",
       "    <tr>\n",
       "      <th>3</th>\n",
       "      <td>0.656980</td>\n",
       "      <td>0.673745</td>\n",
       "      <td>0.074475</td>\n",
       "      <td>-0.541343</td>\n",
       "      <td>1.735870</td>\n",
       "      <td>0.324679</td>\n",
       "      <td>0.384797</td>\n",
       "      <td>0.219602</td>\n",
       "      <td>4070.560059</td>\n",
       "      <td>6195.861959</td>\n",
       "      <td>...</td>\n",
       "      <td>246</td>\n",
       "      <td>178.063603</td>\n",
       "      <td>0.028739</td>\n",
       "      <td>0.479774</td>\n",
       "      <td>0.011617</td>\n",
       "      <td>0.028739</td>\n",
       "      <td>71.974623</td>\n",
       "      <td>71.974623</td>\n",
       "      <td>-4.455323</td>\n",
       "      <td>0.360362</td>\n",
       "    </tr>\n",
       "    <tr>\n",
       "      <th>4</th>\n",
       "      <td>1.209067</td>\n",
       "      <td>0.292864</td>\n",
       "      <td>0.099873</td>\n",
       "      <td>-0.155744</td>\n",
       "      <td>0.426030</td>\n",
       "      <td>0.365663</td>\n",
       "      <td>0.114322</td>\n",
       "      <td>0.405440</td>\n",
       "      <td>4070.560059</td>\n",
       "      <td>3366.694945</td>\n",
       "      <td>...</td>\n",
       "      <td>107</td>\n",
       "      <td>1001.472155</td>\n",
       "      <td>0.297464</td>\n",
       "      <td>0.639835</td>\n",
       "      <td>0.270666</td>\n",
       "      <td>0.297464</td>\n",
       "      <td>911.248259</td>\n",
       "      <td>110.336022</td>\n",
       "      <td>-3.418156</td>\n",
       "      <td>0.490467</td>\n",
       "    </tr>\n",
       "  </tbody>\n",
       "</table>\n",
       "<p>5 rows × 22 columns</p>\n",
       "</div>"
      ],
      "text/plain": [
       "   moneyness  time_to_maturity  risk_free_rate  correlation  reversion_speed  \\\n",
       "0   0.704923          0.134975        0.089318    -0.861284         1.374675   \n",
       "1   0.865403          0.427014        0.097762    -0.185793         0.729394   \n",
       "2   0.959384          1.214109        0.033050    -0.739876         0.985806   \n",
       "3   0.656980          0.673745        0.074475    -0.541343         1.735870   \n",
       "4   1.209067          0.292864        0.099873    -0.155744         0.426030   \n",
       "\n",
       "   Long_average_variance   vol_vol  initial_variance           s0  \\\n",
       "0               0.477240  0.403896          0.289033  4070.560059   \n",
       "1               0.230467  0.041933          0.351214  4070.560059   \n",
       "2               0.425018  0.195878          0.071622  4070.560059   \n",
       "3               0.324679  0.384797          0.219602  4070.560059   \n",
       "4               0.365663  0.114322          0.405440  4070.560059   \n",
       "\n",
       "        strike  ...  calender_days Heston_price  opt_price_by_strike  \\\n",
       "0  5774.472175  ...             49    12.022537             0.002082   \n",
       "1  4703.659001  ...            156   447.653278             0.095171   \n",
       "2  4242.887461  ...            443   825.310628             0.194516   \n",
       "3  6195.861959  ...            246   178.063603             0.028739   \n",
       "4  3366.694945  ...            107  1001.472155             0.297464   \n",
       "\n",
       "   implied_vol  heston_price_using_NN  checking_heston_price     BS_price  \\\n",
       "0     0.505831              -0.041600               0.002082  -240.219484   \n",
       "1     0.579523               0.215044               0.095171  1011.491505   \n",
       "2     0.467660               0.228607               0.194516   969.951873   \n",
       "3     0.479774               0.011617               0.028739    71.974623   \n",
       "4     0.639835               0.270666               0.297464   911.248259   \n",
       "\n",
       "    time_value  scaled_time_value  implied_vol_using_NN  \n",
       "0  -240.219484                NaN                   NaN  \n",
       "1  1011.491505          -1.536915              1.101817  \n",
       "2   969.951873          -1.475753              0.567598  \n",
       "3    71.974623          -4.455323              0.360362  \n",
       "4   110.336022          -3.418156              0.490467  \n",
       "\n",
       "[5 rows x 22 columns]"
      ]
     },
     "execution_count": 33,
     "metadata": {},
     "output_type": "execute_result"
    }
   ],
   "source": [
    "dt_set.head()"
   ]
  },
  {
   "cell_type": "code",
   "execution_count": 22,
   "id": "6abe5aa5",
   "metadata": {},
   "outputs": [],
   "source": [
    "from model.implied_volatility.core.implied_vol import get_time_value"
   ]
  },
  {
   "cell_type": "code",
   "execution_count": 34,
   "id": "38f30ea6",
   "metadata": {},
   "outputs": [],
   "source": [
    "dt_set['BS_price'] = dt_set['heston_price_using_NN'] * dt_set['strike']\n",
    "dt_set['time_value'] =  dt_set.apply(lambda x: get_time_value(x), axis=1)\n",
    "dt_set['scaled_time_value'] = dt_set.apply(lambda x: np.log(x['time_value'] / x['strike']), axis=1)\n",
    "dt_set.dropna(inplace=True)"
   ]
  },
  {
   "cell_type": "code",
   "execution_count": 35,
   "id": "bc642ed8",
   "metadata": {},
   "outputs": [
    {
     "name": "stdout",
     "output_type": "stream",
     "text": [
      "272/272 [==============================] - 0s 542us/step\n"
     ]
    }
   ],
   "source": [
    "feature_columns_implied_vol_model = ['moneyness', 'time_to_maturity', 'risk_free_rate', 'scaled_time_value']\n",
    "implied_vol_using_nn_model = implied_vol_nn_model.predict(dt_set[feature_columns_implied_vol_model])"
   ]
  },
  {
   "cell_type": "code",
   "execution_count": 36,
   "id": "843b35d8",
   "metadata": {},
   "outputs": [],
   "source": [
    "dt_set['implied_vol_using_NN'] = [y[0] for y in implied_vol_using_nn_model]"
   ]
  },
  {
   "cell_type": "code",
   "execution_count": null,
   "id": "90cac7d0",
   "metadata": {},
   "outputs": [],
   "source": []
  }
 ],
 "metadata": {
  "kernelspec": {
   "display_name": "Python 3 (ipykernel)",
   "language": "python",
   "name": "python3"
  },
  "language_info": {
   "codemirror_mode": {
    "name": "ipython",
    "version": 3
   },
   "file_extension": ".py",
   "mimetype": "text/x-python",
   "name": "python",
   "nbconvert_exporter": "python",
   "pygments_lexer": "ipython3",
   "version": "3.10.6"
  }
 },
 "nbformat": 4,
 "nbformat_minor": 5
}
