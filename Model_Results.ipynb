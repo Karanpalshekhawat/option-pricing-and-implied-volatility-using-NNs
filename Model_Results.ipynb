{
 "cells": [
  {
   "cell_type": "markdown",
   "id": "043040d8",
   "metadata": {},
   "source": [
    "## Exploring the difference between output of Neural network model and output of theoretical methods used for computing option price and it's implied volatility\n",
    "\n",
    "---\n"
   ]
  },
  {
   "cell_type": "code",
   "execution_count": 4,
   "id": "6e4283a1",
   "metadata": {},
   "outputs": [],
   "source": [
    "import pandas as pd\n",
    "import numpy as np\n",
    "import matplotlib.pyplot as plt\n",
    "import tensorflow as tf\n",
    "import h5py\n",
    "import os\n",
    "\n",
    "import warnings\n",
    "warnings.filterwarnings(\"ignore\") # just to remove clutter in the notebook"
   ]
  },
  {
   "cell_type": "markdown",
   "id": "f2a488a5",
   "metadata": {},
   "source": [
    "### <font color='Blue'> 1. Black-Scholes Model</font>\n",
    "\n",
    "---"
   ]
  },
  {
   "cell_type": "code",
   "execution_count": 5,
   "id": "9cbbc875",
   "metadata": {},
   "outputs": [],
   "source": [
    "from model.pricing.utils.get_data import get_current_price, pre_processing\n",
    "from model.pricing.core.black_scholes import create_dataset"
   ]
  },
  {
   "cell_type": "code",
   "execution_count": 6,
   "id": "7dd7cd2e",
   "metadata": {},
   "outputs": [],
   "source": [
    "model_save_path = os.getcwd() + \"/model/output/\" + \"BS_NN_model.h5\"\n",
    "bs_nn_model = tf.keras.models.load_model(model_save_path, compile=False)"
   ]
  },
  {
   "cell_type": "markdown",
   "id": "98f3b4bb",
   "metadata": {},
   "source": [
    "#### <font color='Blue'>  1.1 Create datset using the below range of input parameters using Latin Hypercube sampling. </font>\n",
    "\n",
    "|  |  |  |\n",
    "|:---|:---|:---|\n",
    "|      | Parameters |  Range|\n",
    "|Input |Moneyness ($S_{o}$ / K) |  [0.4,1.6] |\n",
    "|      |Time to Maturity | [0.2,1.1]   |\n",
    "|      |Risk Free rate | [0.02,0.1] | \n",
    "|      |Volatility | [0.01,1] |\n",
    "|Output|Call Price (V / K) |  [0.0,0.9]    |\n",
    "\n",
    "---"
   ]
  },
  {
   "cell_type": "markdown",
   "id": "2b43f4fe",
   "metadata": {},
   "source": [
    "#### <font color='Blue'> 1.2 Computes black scholes price for a test data set and then compute option price by strike. </font> \n",
    "\n",
    "---"
   ]
  },
  {
   "cell_type": "code",
   "execution_count": 9,
   "id": "2f19b611",
   "metadata": {},
   "outputs": [],
   "source": [
    "test_data_set_size = 100000\n",
    "df, st_current_price, range_of_inputs = pre_processing(test_data_set_size, \"BS\")\n",
    "dt_test = create_dataset(df, st_current_price, range_of_inputs)\n",
    "otpt_using_BS = np.array(dt_test['opt_price_by_strike'])"
   ]
  },
  {
   "cell_type": "markdown",
   "id": "b0ebec94",
   "metadata": {},
   "source": [
    "#### <font color='Blue'>  1.3 Using the trained BS NN model and input parameters, we computed option price ( V / K) and compared it with option price by strike ratio obtained in above step </font>"
   ]
  },
  {
   "cell_type": "code",
   "execution_count": 12,
   "id": "b1001bfe",
   "metadata": {},
   "outputs": [
    {
     "name": "stdout",
     "output_type": "stream",
     "text": [
      "2959/2959 [==============================] - 1s 461us/step\n"
     ]
    }
   ],
   "source": [
    "feature_columns = ['moneyness', 'time_to_maturity', 'risk_free_rate', 'volatility']\n",
    "x_test = dt_test[feature_columns]\n",
    "y_predict = bs_nn_model.predict(x_test)"
   ]
  },
  {
   "cell_type": "code",
   "execution_count": 13,
   "id": "e6beaf49",
   "metadata": {},
   "outputs": [
    {
     "data": {
      "image/png": "[encoded data removed]",
      "text/plain": [
       "<Figure size 640x480 with 1 Axes>"
      ]
     },
     "metadata": {},
     "output_type": "display_data"
    }
   ],
   "source": [
    "otpt_using_nn_model = [y[0] for y in y_predict]\n",
    "diff = np.subtract(otpt_using_BS, otpt_using_nn_model)\n",
    "plt.hist(diff, 100, density=1, alpha=0.9)\n",
    "plt.xlabel('Error')\n",
    "plt.ylabel('Frequency')\n",
    "  \n",
    "plt.title('Error Distribution', fontweight =\"bold\")\n",
    "plt.show()"
   ]
  },
  {
   "cell_type": "markdown",
   "id": "f2c405d0",
   "metadata": {},
   "source": [
    "### <font color='Blue'>  2. Combining Heston Pricing NN model and Implied Volatility NN model </font>\n",
    "\n",
    "---"
   ]
  },
  {
   "cell_type": "code",
   "execution_count": null,
   "id": "fee9d014",
   "metadata": {},
   "outputs": [],
   "source": [
    "heston_model_save_path = os.getcwd() + \"/model/output/\" + \"BS_NN_model.h5\"\n",
    "heston_nn_model = tf.keras.models.load_model(model_save_path, compile=False)"
   ]
  }
 ],
 "metadata": {
  "kernelspec": {
   "display_name": "Python 3 (ipykernel)",
   "language": "python",
   "name": "python3"
  },
  "language_info": {
   "codemirror_mode": {
    "name": "ipython",
    "version": 3
   },
   "file_extension": ".py",
   "mimetype": "text/x-python",
   "name": "python",
   "nbconvert_exporter": "python",
   "pygments_lexer": "ipython3",
   "version": "3.10.6"
  }
 },
 "nbformat": 4,
 "nbformat_minor": 5
}
