{
 "cells": [
  {
   "cell_type": "markdown",
   "id": "7e8f0b99",
   "metadata": {},
   "source": [
    "## Exploring the difference between output of Neural network model and output of theoretical methods used for computing option price and it's implied volatility\n",
    "\n",
    "---\n"
   ]
  },
  {
   "cell_type": "code",
   "execution_count": 1,
   "id": "13e6921e",
   "metadata": {},
   "outputs": [],
   "source": [
    "import pandas as pd\n",
    "import numpy as np\n",
    "import matplotlib.pyplot as plt\n",
    "import tensorflow as tf\n",
    "import h5py\n",
    "import os\n",
    "import json\n",
    "\n",
    "import warnings\n",
    "warnings.filterwarnings(\"ignore\") # just to remove clutter in the notebook"
   ]
  },
  {
   "cell_type": "markdown",
   "id": "becb91b0",
   "metadata": {},
   "source": [
    "### <font color='Blue'> 1. Black-Scholes Model</font>\n",
    "\n",
    "---"
   ]
  },
  {
   "cell_type": "code",
   "execution_count": 2,
   "id": "fc083049",
   "metadata": {},
   "outputs": [],
   "source": [
    "from model.pricing.utils.get_data import get_current_price, pre_processing\n",
    "from model.pricing.core.black_scholes import create_dataset\n",
    "from model.pricing.core.neural_network import run_nn_model"
   ]
  },
  {
   "cell_type": "code",
   "execution_count": 3,
   "id": "1a4b18e7",
   "metadata": {},
   "outputs": [],
   "source": [
    "model_save_path = os.getcwd() + \"/model/output/\" + \"BS_NN_model.h5\"\n",
    "bs_nn_model = tf.keras.models.load_model(model_save_path, compile=False)"
   ]
  },
  {
   "cell_type": "markdown",
   "id": "d829c9cc",
   "metadata": {},
   "source": [
    "#### <font color='Blue'>  1.1 Create datset using the below range of input parameters using Latin Hypercube sampling. </font>\n",
    "\n",
    "|  |  |  |\n",
    "|:---|:---|:---|\n",
    "|      | Parameters |  Range|\n",
    "|Input |Moneyness ($S_{o}$ / K) |  [0.4,1.6] |\n",
    "|      |Time to Maturity | [0.2,1.1]   |\n",
    "|      |Risk Free rate | [0.02,0.1] | \n",
    "|      |Volatility | [0.01,1] |\n",
    "|Output|Call Price (V / K) |  [0.0,0.9]    |\n",
    "\n",
    "---"
   ]
  },
  {
   "cell_type": "markdown",
   "id": "a93172b5",
   "metadata": {},
   "source": [
    "#### <font color='Blue'> 1.2 Computes black scholes price for a test data set and then compute option price by strike. </font> \n",
    "\n",
    "---"
   ]
  },
  {
   "cell_type": "code",
   "execution_count": 4,
   "id": "9642d191",
   "metadata": {},
   "outputs": [],
   "source": [
    "test_data_set_size = 100000\n",
    "df, st_current_price, range_of_inputs = pre_processing(test_data_set_size, \"BS\")\n",
    "dt_test = create_dataset(df, st_current_price, range_of_inputs)\n",
    "otpt_using_BS = np.array(dt_test['opt_price_by_strike'])"
   ]
  },
  {
   "cell_type": "markdown",
   "id": "261e70e8",
   "metadata": {},
   "source": [
    "#### <font color='Blue'>  1.3 Using the trained BS NN model and input parameters, we computed option price ( V / K) and compared it with option price by strike ratio obtained in above step </font>"
   ]
  },
  {
   "cell_type": "code",
   "execution_count": 5,
   "id": "da66d0d6",
   "metadata": {},
   "outputs": [
    {
     "name": "stdout",
     "output_type": "stream",
     "text": [
      " 209/2958 [=>............................] - ETA: 1s"
     ]
    },
    {
     "name": "stderr",
     "output_type": "stream",
     "text": [
      "2023-02-02 13:25:11.312688: W tensorflow/tsl/platform/profile_utils/cpu_utils.cc:128] Failed to get CPU frequency: 0 Hz\n"
     ]
    },
    {
     "name": "stdout",
     "output_type": "stream",
     "text": [
      "2958/2958 [==============================] - 2s 483us/step\n"
     ]
    }
   ],
   "source": [
    "feature_columns = ['moneyness', 'time_to_maturity', 'risk_free_rate', 'volatility']\n",
    "x_test = dt_test[feature_columns]\n",
    "y_predict = bs_nn_model.predict(x_test)"
   ]
  },
  {
   "cell_type": "code",
   "execution_count": 6,
   "id": "16ccf8c2",
   "metadata": {},
   "outputs": [
    {
     "data": {
      "image/png": "[encoded data removed]",
      "text/plain": [
       "<Figure size 640x480 with 1 Axes>"
      ]
     },
     "metadata": {},
     "output_type": "display_data"
    }
   ],
   "source": [
    "otpt_using_nn_model = [y[0] for y in y_predict]\n",
    "diff = np.subtract(otpt_using_BS, otpt_using_nn_model)\n",
    "plt.hist(diff, 100, density=1, alpha=0.9)\n",
    "plt.xlabel('Error')\n",
    "plt.ylabel('Frequency')\n",
    "  \n",
    "plt.title('Error Distribution', fontweight =\"bold\")\n",
    "plt.show()"
   ]
  },
  {
   "cell_type": "markdown",
   "id": "eb462285",
   "metadata": {},
   "source": [
    "### <font color='Blue'>  2. Combining Heston Pricing NN model and Implied Volatility NN model </font>\n",
    "\n",
    "---"
   ]
  },
  {
   "cell_type": "code",
   "execution_count": 7,
   "id": "75d69861",
   "metadata": {},
   "outputs": [],
   "source": [
    "from model.implied_volatility.core.heston_model_pricing import create_heston_dataset"
   ]
  },
  {
   "cell_type": "code",
   "execution_count": 8,
   "id": "06768779",
   "metadata": {},
   "outputs": [],
   "source": [
    "heston_model_save_path = os.getcwd() + \"/model/output/\" + \"Heston_NN_model.h5\"\n",
    "heston_nn_model = tf.keras.models.load_model(heston_model_save_path, compile=False)\n",
    "implied_volatility_model_save_path = os.getcwd() + \"/model/output/\" + \"Implied_volatility_NN_model.h5\"\n",
    "implied_volatility_nn_model = tf.keras.models.load_model(implied_volatility_model_save_path, compile=False)"
   ]
  },
  {
   "cell_type": "markdown",
   "id": "9a751396",
   "metadata": {},
   "source": [
    "#### <font color='Blue'>  1.1 Create datset using the below range of input parameters using Latin Hypercube sampling for heston pricing dataset. </font>\n",
    "\n",
    "|  |  |  |\n",
    "|:---|:---|:---|\n",
    "|      | Parameters |  Range|\n",
    "|Input |Moneyness ($S_{o}$ / K) |  [0.4,1.6] |\n",
    "|      |Time to Maturity | [0.1,1.4]   |\n",
    "|      |Risk Free rate | [0.01,0.1] | \n",
    "|      |Correlation of stochastic process of udnerlying price and volatility | [-0.95,0] |\n",
    "|      |Reversion speed of volatility stochastic mean reverting process |  [0.0,2.0]     |\n",
    "|      |Long average variance |  [0.0,0.5]     |\n",
    "|      |Volatility of variance |  [0.0,0.5]     |\n",
    "|      |Initial variance |  [0.05,0.5]     |\n",
    "|Output|Call Price (V / K) |  [0.0,0.7]   |\n",
    "\n",
    "---\n",
    "\n",
    "#### <font color='Blue'> 2.2 Computing implied volatiity for a simulated heston price using brent method. </font> \n",
    "\n",
    "---"
   ]
  },
  {
   "cell_type": "code",
   "execution_count": 9,
   "id": "f5923767",
   "metadata": {},
   "outputs": [],
   "source": [
    "from model.implied_volatility.core.implied_vol import implied_volatility_call"
   ]
  },
  {
   "cell_type": "code",
   "execution_count": 10,
   "id": "a7958808",
   "metadata": {},
   "outputs": [],
   "source": [
    "otpt_heston = os.getcwd() + \"/model/output/\" + \"Heston_model_dataset.csv\"\n",
    "dt_set = pd.read_csv(otpt_heston).iloc[:, 1:]\n",
    "dt_set['implied_vol'] = dt_set.apply(lambda x:implied_volatility_call(x), axis=1)"
   ]
  },
  {
   "cell_type": "markdown",
   "id": "df6d5ce0",
   "metadata": {},
   "source": [
    "#### <font color='Blue'> 2.2 Read already trained heston neural network model and implied volatility neural network model. </font> \n",
    "\n",
    "#### <font color='Blue'> 2.3 Using set of input features, we will first predict the heston price using NN model . </font> \n",
    "\n",
    "#### <font color='Blue'> 2.4 Then, using this heston price, we can compute time value of an option, and from that scaled log value of time to compute implied volatility . </font> \n",
    "---"
   ]
  },
  {
   "cell_type": "code",
   "execution_count": 40,
   "id": "ed3b7201",
   "metadata": {},
   "outputs": [],
   "source": [
    "heston_model_save_path = os.getcwd() + \"/model/output/\" + \"Heston_NN_model.h5\"\n",
    "implied_vol_model_save_path = os.getcwd() + \"/model/output/\" + \"implied_volatility_NN_model.h5\"\n",
    "heston_nn_model = tf.keras.models.load_model(heston_model_save_path, compile=False)\n",
    "implied_vol_nn_model = tf.keras.models.load_model(implied_vol_model_save_path, compile=False)"
   ]
  },
  {
   "cell_type": "code",
   "execution_count": 41,
   "id": "1483c373",
   "metadata": {},
   "outputs": [
    {
     "name": "stdout",
     "output_type": "stream",
     "text": [
      "272/272 [==============================] - 0s 516us/step\n"
     ]
    }
   ],
   "source": [
    "feature_columns_heston_model = ['moneyness', 'time_to_maturity', 'risk_free_rate', 'correlation', 'reversion_speed',\n",
    "                       'Long_average_variance', 'vol_vol', 'initial_variance']\n",
    "heston_price_using_nn_model = heston_nn_model.predict(dt_set[feature_columns_heston_model])"
   ]
  },
  {
   "cell_type": "code",
   "execution_count": 42,
   "id": "ed9f6762",
   "metadata": {},
   "outputs": [],
   "source": [
    "dt_set['heston_price_using_NN'] = [y[0] for y in heston_price_using_nn_model]"
   ]
  },
  {
   "cell_type": "code",
   "execution_count": 43,
   "id": "a6acc3b7",
   "metadata": {},
   "outputs": [],
   "source": [
    "from model.implied_volatility.core.implied_vol import get_time_value"
   ]
  },
  {
   "cell_type": "code",
   "execution_count": 44,
   "id": "9df1fcbe",
   "metadata": {},
   "outputs": [],
   "source": [
    "dt_set['BS_price'] = dt_set['heston_price_using_NN'] * dt_set['strike']\n",
    "dt_set['time_value'] =  dt_set.apply(lambda x: get_time_value(x), axis=1)\n",
    "dt_set['scaled_time_value'] = dt_set.apply(lambda x: np.log(x['time_value'] / x['strike']), axis=1)\n",
    "dt_set.dropna(inplace=True)"
   ]
  },
  {
   "cell_type": "code",
   "execution_count": 45,
   "id": "face5a75",
   "metadata": {},
   "outputs": [
    {
     "name": "stdout",
     "output_type": "stream",
     "text": [
      "272/272 [==============================] - 0s 500us/step\n"
     ]
    }
   ],
   "source": [
    "feature_columns_implied_vol_model = ['moneyness', 'time_to_maturity', 'risk_free_rate', 'scaled_time_value']\n",
    "implied_vol_using_nn_model = implied_vol_nn_model.predict(dt_set[feature_columns_implied_vol_model])"
   ]
  },
  {
   "cell_type": "code",
   "execution_count": 46,
   "id": "6b9bc840",
   "metadata": {},
   "outputs": [],
   "source": [
    "dt_set['implied_vol_using_NN'] = [y[0] for y in implied_vol_using_nn_model]"
   ]
  },
  {
   "cell_type": "code",
   "execution_count": null,
   "id": "c25b3a72",
   "metadata": {},
   "outputs": [],
   "source": []
  }
 ],
 "metadata": {
  "kernelspec": {
   "display_name": "Python 3 (ipykernel)",
   "language": "python",
   "name": "python3"
  },
  "language_info": {
   "codemirror_mode": {
    "name": "ipython",
    "version": 3
   },
   "file_extension": ".py",
   "mimetype": "text/x-python",
   "name": "python",
   "nbconvert_exporter": "python",
   "pygments_lexer": "ipython3",
   "version": "3.10.6"
  }
 },
 "nbformat": 4,
 "nbformat_minor": 5
}
