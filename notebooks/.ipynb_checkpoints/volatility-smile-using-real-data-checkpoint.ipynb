{
 "cells": [
  {
   "cell_type": "markdown",
   "metadata": {},
   "source": [
    "- In thie notebook, I tried to look into actual data for options on S&P index\n",
    "- Mostly I wanted to plot and see volatility smile on real data\n",
    "- Although, smile can be seen below but some more data cleaning is required for the smooth curve"
   ]
  },
  {
   "cell_type": "code",
   "execution_count": 12,
   "metadata": {},
   "outputs": [],
   "source": [
    "import pandas as pd\n",
    "import numpy as np\n",
    "import opstrat as op # for plotting\n",
    "from optionprice import option\n",
    "from datetime import datetime\n",
    "import matplotlib.pyplot as plt"
   ]
  },
  {
   "cell_type": "code",
   "execution_count": 2,
   "metadata": {},
   "outputs": [],
   "source": [
    "import yfinance as yf"
   ]
  },
  {
   "cell_type": "code",
   "execution_count": 3,
   "metadata": {},
   "outputs": [],
   "source": [
    "ticker = \"^SPX\"\n",
    "tk = yf.Ticker(ticker)\n",
    "exps = tk.options # it will give expiration dates for all options "
   ]
  },
  {
   "cell_type": "code",
   "execution_count": 4,
   "metadata": {},
   "outputs": [],
   "source": [
    "def get_options(expiry_date):\n",
    "    \"\"\"Retrieve all options for an expiry date, using tk class directly\"\"\"\n",
    "    opt = tk.option_chain(expiry_date)\n",
    "    df_temp = pd.concat([opt.calls, opt.puts])\n",
    "    df_temp['expiration_date'] = expiry_date\n",
    "    return df_temp"
   ]
  },
  {
   "cell_type": "code",
   "execution_count": 5,
   "metadata": {},
   "outputs": [],
   "source": [
    "ls_dfs = list(map(get_options, exps))\n",
    "opt_df = pd.concat(ls_dfs)"
   ]
  },
  {
   "cell_type": "code",
   "execution_count": 88,
   "metadata": {},
   "outputs": [
    {
     "data": {
      "text/html": [
       "<div>\n",
       "<style scoped>\n",
       "    .dataframe tbody tr th:only-of-type {\n",
       "        vertical-align: middle;\n",
       "    }\n",
       "\n",
       "    .dataframe tbody tr th {\n",
       "        vertical-align: top;\n",
       "    }\n",
       "\n",
       "    .dataframe thead th {\n",
       "        text-align: right;\n",
       "    }\n",
       "</style>\n",
       "<table border=\"1\" class=\"dataframe\">\n",
       "  <thead>\n",
       "    <tr style=\"text-align: right;\">\n",
       "      <th></th>\n",
       "      <th>contractSymbol</th>\n",
       "      <th>lastTradeDate</th>\n",
       "      <th>strike</th>\n",
       "      <th>lastPrice</th>\n",
       "      <th>bid</th>\n",
       "      <th>ask</th>\n",
       "      <th>change</th>\n",
       "      <th>percentChange</th>\n",
       "      <th>volume</th>\n",
       "      <th>openInterest</th>\n",
       "      <th>impliedVolatility</th>\n",
       "      <th>inTheMoney</th>\n",
       "      <th>contractSize</th>\n",
       "      <th>currency</th>\n",
       "      <th>expiration_date</th>\n",
       "      <th>Moneyness</th>\n",
       "      <th>call_or_put</th>\n",
       "    </tr>\n",
       "  </thead>\n",
       "  <tbody>\n",
       "    <tr>\n",
       "      <th>0</th>\n",
       "      <td>SPXW230103C01000000</td>\n",
       "      <td>2022-12-29 15:22:19</td>\n",
       "      <td>1000.0</td>\n",
       "      <td>2841.88</td>\n",
       "      <td>2842.2</td>\n",
       "      <td>2846.7</td>\n",
       "      <td>0.0</td>\n",
       "      <td>0.0</td>\n",
       "      <td>18.0</td>\n",
       "      <td>97.0</td>\n",
       "      <td>6.625490</td>\n",
       "      <td>1.0</td>\n",
       "      <td>REGULAR</td>\n",
       "      <td>USD</td>\n",
       "      <td>2023-01-03</td>\n",
       "      <td>0.260451</td>\n",
       "      <td>C</td>\n",
       "    </tr>\n",
       "    <tr>\n",
       "      <th>1</th>\n",
       "      <td>SPXW230103C01200000</td>\n",
       "      <td>2022-12-21 01:36:02</td>\n",
       "      <td>1200.0</td>\n",
       "      <td>2644.80</td>\n",
       "      <td>2642.3</td>\n",
       "      <td>2646.7</td>\n",
       "      <td>0.0</td>\n",
       "      <td>0.0</td>\n",
       "      <td>4.0</td>\n",
       "      <td>24.0</td>\n",
       "      <td>5.770755</td>\n",
       "      <td>1.0</td>\n",
       "      <td>REGULAR</td>\n",
       "      <td>USD</td>\n",
       "      <td>2023-01-03</td>\n",
       "      <td>0.312541</td>\n",
       "      <td>C</td>\n",
       "    </tr>\n",
       "    <tr>\n",
       "      <th>2</th>\n",
       "      <td>SPXW230103C01600000</td>\n",
       "      <td>2022-12-14 17:36:00</td>\n",
       "      <td>1600.0</td>\n",
       "      <td>2439.59</td>\n",
       "      <td>2242.6</td>\n",
       "      <td>2246.8</td>\n",
       "      <td>0.0</td>\n",
       "      <td>0.0</td>\n",
       "      <td>NaN</td>\n",
       "      <td>3.0</td>\n",
       "      <td>4.445317</td>\n",
       "      <td>1.0</td>\n",
       "      <td>REGULAR</td>\n",
       "      <td>USD</td>\n",
       "      <td>2023-01-03</td>\n",
       "      <td>0.416721</td>\n",
       "      <td>C</td>\n",
       "    </tr>\n",
       "    <tr>\n",
       "      <th>3</th>\n",
       "      <td>SPXW230103C01800000</td>\n",
       "      <td>2022-12-19 07:29:52</td>\n",
       "      <td>1800.0</td>\n",
       "      <td>2059.90</td>\n",
       "      <td>2042.7</td>\n",
       "      <td>2046.9</td>\n",
       "      <td>0.0</td>\n",
       "      <td>0.0</td>\n",
       "      <td>NaN</td>\n",
       "      <td>5.0</td>\n",
       "      <td>3.902588</td>\n",
       "      <td>1.0</td>\n",
       "      <td>REGULAR</td>\n",
       "      <td>USD</td>\n",
       "      <td>2023-01-03</td>\n",
       "      <td>0.468811</td>\n",
       "      <td>C</td>\n",
       "    </tr>\n",
       "    <tr>\n",
       "      <th>4</th>\n",
       "      <td>SPXW230103C02000000</td>\n",
       "      <td>2022-12-29 15:22:19</td>\n",
       "      <td>2000.0</td>\n",
       "      <td>1842.48</td>\n",
       "      <td>1843.0</td>\n",
       "      <td>1847.0</td>\n",
       "      <td>0.0</td>\n",
       "      <td>0.0</td>\n",
       "      <td>17.0</td>\n",
       "      <td>18.0</td>\n",
       "      <td>3.424318</td>\n",
       "      <td>1.0</td>\n",
       "      <td>REGULAR</td>\n",
       "      <td>USD</td>\n",
       "      <td>2023-01-03</td>\n",
       "      <td>0.520901</td>\n",
       "      <td>C</td>\n",
       "    </tr>\n",
       "  </tbody>\n",
       "</table>\n",
       "</div>"
      ],
      "text/plain": [
       "        contractSymbol       lastTradeDate  strike  lastPrice     bid     ask  \\\n",
       "0  SPXW230103C01000000 2022-12-29 15:22:19  1000.0    2841.88  2842.2  2846.7   \n",
       "1  SPXW230103C01200000 2022-12-21 01:36:02  1200.0    2644.80  2642.3  2646.7   \n",
       "2  SPXW230103C01600000 2022-12-14 17:36:00  1600.0    2439.59  2242.6  2246.8   \n",
       "3  SPXW230103C01800000 2022-12-19 07:29:52  1800.0    2059.90  2042.7  2046.9   \n",
       "4  SPXW230103C02000000 2022-12-29 15:22:19  2000.0    1842.48  1843.0  1847.0   \n",
       "\n",
       "   change  percentChange  volume  openInterest  impliedVolatility  inTheMoney  \\\n",
       "0     0.0            0.0    18.0          97.0           6.625490         1.0   \n",
       "1     0.0            0.0     4.0          24.0           5.770755         1.0   \n",
       "2     0.0            0.0     NaN           3.0           4.445317         1.0   \n",
       "3     0.0            0.0     NaN           5.0           3.902588         1.0   \n",
       "4     0.0            0.0    17.0          18.0           3.424318         1.0   \n",
       "\n",
       "  contractSize currency expiration_date  Moneyness call_or_put  \n",
       "0      REGULAR      USD      2023-01-03   0.260451           C  \n",
       "1      REGULAR      USD      2023-01-03   0.312541           C  \n",
       "2      REGULAR      USD      2023-01-03   0.416721           C  \n",
       "3      REGULAR      USD      2023-01-03   0.468811           C  \n",
       "4      REGULAR      USD      2023-01-03   0.520901           C  "
      ]
     },
     "execution_count": 88,
     "metadata": {},
     "output_type": "execute_result"
    }
   ],
   "source": [
    "opt_df.head()"
   ]
  },
  {
   "cell_type": "code",
   "execution_count": 7,
   "metadata": {},
   "outputs": [],
   "source": [
    "current_spx_level = tk.history()['Close'][0]"
   ]
  },
  {
   "cell_type": "code",
   "execution_count": 65,
   "metadata": {},
   "outputs": [],
   "source": [
    "opt_df['Moneyness'] = opt_df['strike'] / current_spx_level\n",
    "# further break it up\n",
    "opt_df['call_or_put'] = opt_df['contractSymbol'].apply(lambda x:\"C\" if \"C\" in x else \"P\")"
   ]
  },
  {
   "cell_type": "code",
   "execution_count": 84,
   "metadata": {},
   "outputs": [],
   "source": [
    "# fixing 1 expiry date\n",
    "exp = exps[4]\n",
    "df_temp = opt_df[opt_df['expiration_date'] == exp]"
   ]
  },
  {
   "cell_type": "code",
   "execution_count": 85,
   "metadata": {},
   "outputs": [],
   "source": [
    "df_call = df_temp[df_temp['call_or_put'] == \"C\"]\n",
    "df_put = df_temp[df_temp['call_or_put'] == \"P\"]"
   ]
  },
  {
   "cell_type": "code",
   "execution_count": 86,
   "metadata": {},
   "outputs": [
    {
     "data": {
      "text/plain": [
       "<AxesSubplot:xlabel='Moneyness'>"
      ]
     },
     "execution_count": 86,
     "metadata": {},
     "output_type": "execute_result"
    },
    {
     "data": {
      "image/png": "[encoded data removed]",
      "text/plain": [
       "<Figure size 432x288 with 1 Axes>"
      ]
     },
     "metadata": {
      "needs_background": "light"
     },
     "output_type": "display_data"
    }
   ],
   "source": [
    "df_call.plot(x = 'Moneyness', y= 'impliedVolatility')"
   ]
  },
  {
   "cell_type": "code",
   "execution_count": 87,
   "metadata": {},
   "outputs": [
    {
     "data": {
      "text/plain": [
       "<AxesSubplot:xlabel='Moneyness'>"
      ]
     },
     "execution_count": 87,
     "metadata": {},
     "output_type": "execute_result"
    },
    {
     "data": {
      "image/png": "[encoded data removed]",
      "text/plain": [
       "<Figure size 432x288 with 1 Axes>"
      ]
     },
     "metadata": {
      "needs_background": "light"
     },
     "output_type": "display_data"
    }
   ],
   "source": [
    "df_put.plot(x = 'Moneyness', y= 'impliedVolatility')"
   ]
  },
  {
   "cell_type": "markdown",
   "metadata": {},
   "source": [
    "- As expected, OTM and ITM have mostly higher implied vols as compare to ATM mostly due to increased risk of potenital large movments.\n",
    "- OTM puts have higher implied vol as their value can be attributed purely to future expectation and risk averse nature of investors\n",
    "- People generally write more upside calls to protect their large long positions of underlying, sometime this scenario might lead to lower implied vol to the right of ATM for IV Call\n",
    "- Because of put call parity, implied vol generated at any money ness from call and put should be same, but this occur less frequently in the markets"
   ]
  }
 ],
 "metadata": {
  "kernelspec": {
   "display_name": "Python 3 (ipykernel)",
   "language": "python",
   "name": "python3"
  },
  "language_info": {
   "codemirror_mode": {
    "name": "ipython",
    "version": 3
   },
   "file_extension": ".py",
   "mimetype": "text/x-python",
   "name": "python",
   "nbconvert_exporter": "python",
   "pygments_lexer": "ipython3",
   "version": "3.10.6"
  }
 },
 "nbformat": 4,
 "nbformat_minor": 2
}
